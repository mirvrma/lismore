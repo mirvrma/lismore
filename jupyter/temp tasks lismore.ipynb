{
 "cells": [
  {
   "cell_type": "code",
   "execution_count": 1,
   "id": "6387335c-bf28-44da-843d-1dbd41e29f69",
   "metadata": {},
   "outputs": [],
   "source": [
    "import pandas as pd\n",
    "import geopandas as gpd"
   ]
  },
  {
   "cell_type": "code",
   "execution_count": 2,
   "id": "00905176-736c-4a3c-9657-dbc4f6830fbe",
   "metadata": {},
   "outputs": [
    {
     "data": {
      "text/html": [
       "<div>\n",
       "<style scoped>\n",
       "    .dataframe tbody tr th:only-of-type {\n",
       "        vertical-align: middle;\n",
       "    }\n",
       "\n",
       "    .dataframe tbody tr th {\n",
       "        vertical-align: top;\n",
       "    }\n",
       "\n",
       "    .dataframe thead th {\n",
       "        text-align: right;\n",
       "    }\n",
       "</style>\n",
       "<table border=\"1\" class=\"dataframe\">\n",
       "  <thead>\n",
       "    <tr style=\"text-align: right;\">\n",
       "      <th></th>\n",
       "      <th>LGA_CODE23</th>\n",
       "      <th>LGA_NAME23</th>\n",
       "      <th>STE_CODE21</th>\n",
       "      <th>STE_NAME21</th>\n",
       "      <th>AUS_CODE21</th>\n",
       "      <th>AUS_NAME21</th>\n",
       "      <th>AREASQKM</th>\n",
       "      <th>LOCI_URI21</th>\n",
       "      <th>geometry</th>\n",
       "    </tr>\n",
       "  </thead>\n",
       "  <tbody>\n",
       "    <tr>\n",
       "      <th>0</th>\n",
       "      <td>10050</td>\n",
       "      <td>Albury</td>\n",
       "      <td>1</td>\n",
       "      <td>New South Wales</td>\n",
       "      <td>AUS</td>\n",
       "      <td>Australia</td>\n",
       "      <td>305.6386</td>\n",
       "      <td>https://linked.data.gov.au/dataset/asgsed3/LGA...</td>\n",
       "      <td>POLYGON ((146.81767 -36.06739, 146.82138 -36.0...</td>\n",
       "    </tr>\n",
       "    <tr>\n",
       "      <th>1</th>\n",
       "      <td>10180</td>\n",
       "      <td>Armidale</td>\n",
       "      <td>1</td>\n",
       "      <td>New South Wales</td>\n",
       "      <td>AUS</td>\n",
       "      <td>Australia</td>\n",
       "      <td>7809.4406</td>\n",
       "      <td>https://linked.data.gov.au/dataset/asgsed3/LGA...</td>\n",
       "      <td>POLYGON ((152.29572 -30.93102, 152.29546 -30.9...</td>\n",
       "    </tr>\n",
       "    <tr>\n",
       "      <th>2</th>\n",
       "      <td>10250</td>\n",
       "      <td>Ballina</td>\n",
       "      <td>1</td>\n",
       "      <td>New South Wales</td>\n",
       "      <td>AUS</td>\n",
       "      <td>Australia</td>\n",
       "      <td>484.9692</td>\n",
       "      <td>https://linked.data.gov.au/dataset/asgsed3/LGA...</td>\n",
       "      <td>MULTIPOLYGON (((153.57106 -28.87381, 153.57169...</td>\n",
       "    </tr>\n",
       "    <tr>\n",
       "      <th>3</th>\n",
       "      <td>10300</td>\n",
       "      <td>Balranald</td>\n",
       "      <td>1</td>\n",
       "      <td>New South Wales</td>\n",
       "      <td>AUS</td>\n",
       "      <td>Australia</td>\n",
       "      <td>21690.7493</td>\n",
       "      <td>https://linked.data.gov.au/dataset/asgsed3/LGA...</td>\n",
       "      <td>POLYGON ((143.55247 -33.14047, 143.59348 -33.1...</td>\n",
       "    </tr>\n",
       "    <tr>\n",
       "      <th>4</th>\n",
       "      <td>10470</td>\n",
       "      <td>Bathurst</td>\n",
       "      <td>1</td>\n",
       "      <td>New South Wales</td>\n",
       "      <td>AUS</td>\n",
       "      <td>Australia</td>\n",
       "      <td>3817.8645</td>\n",
       "      <td>https://linked.data.gov.au/dataset/asgsed3/LGA...</td>\n",
       "      <td>POLYGON ((149.39469 -33.99755, 149.39363 -33.9...</td>\n",
       "    </tr>\n",
       "  </tbody>\n",
       "</table>\n",
       "</div>"
      ],
      "text/plain": [
       "  LGA_CODE23 LGA_NAME23 STE_CODE21       STE_NAME21 AUS_CODE21 AUS_NAME21  \\\n",
       "0      10050     Albury          1  New South Wales        AUS  Australia   \n",
       "1      10180   Armidale          1  New South Wales        AUS  Australia   \n",
       "2      10250    Ballina          1  New South Wales        AUS  Australia   \n",
       "3      10300  Balranald          1  New South Wales        AUS  Australia   \n",
       "4      10470   Bathurst          1  New South Wales        AUS  Australia   \n",
       "\n",
       "     AREASQKM                                         LOCI_URI21  \\\n",
       "0    305.6386  https://linked.data.gov.au/dataset/asgsed3/LGA...   \n",
       "1   7809.4406  https://linked.data.gov.au/dataset/asgsed3/LGA...   \n",
       "2    484.9692  https://linked.data.gov.au/dataset/asgsed3/LGA...   \n",
       "3  21690.7493  https://linked.data.gov.au/dataset/asgsed3/LGA...   \n",
       "4   3817.8645  https://linked.data.gov.au/dataset/asgsed3/LGA...   \n",
       "\n",
       "                                            geometry  \n",
       "0  POLYGON ((146.81767 -36.06739, 146.82138 -36.0...  \n",
       "1  POLYGON ((152.29572 -30.93102, 152.29546 -30.9...  \n",
       "2  MULTIPOLYGON (((153.57106 -28.87381, 153.57169...  \n",
       "3  POLYGON ((143.55247 -33.14047, 143.59348 -33.1...  \n",
       "4  POLYGON ((149.39469 -33.99755, 149.39363 -33.9...  "
      ]
     },
     "execution_count": 2,
     "metadata": {},
     "output_type": "execute_result"
    }
   ],
   "source": [
    "lgas = gpd.read_file(\"/Users/tonyweir/Documents/code/projects/lismore/data/geometry_files/LGA_simple_boundaries_2023/LGA_simple_boundaries_2023.shp\")\n",
    "lgas.head()"
   ]
  },
  {
   "cell_type": "code",
   "execution_count": 3,
   "id": "bd700146-4423-4a4b-9beb-5b50494b0ec0",
   "metadata": {},
   "outputs": [
    {
     "data": {
      "text/html": [
       "<div>\n",
       "<style scoped>\n",
       "    .dataframe tbody tr th:only-of-type {\n",
       "        vertical-align: middle;\n",
       "    }\n",
       "\n",
       "    .dataframe tbody tr th {\n",
       "        vertical-align: top;\n",
       "    }\n",
       "\n",
       "    .dataframe thead th {\n",
       "        text-align: right;\n",
       "    }\n",
       "</style>\n",
       "<table border=\"1\" class=\"dataframe\">\n",
       "  <thead>\n",
       "    <tr style=\"text-align: right;\">\n",
       "      <th></th>\n",
       "      <th>LGA_CODE23</th>\n",
       "      <th>LGA_NAME23</th>\n",
       "      <th>STE_CODE21</th>\n",
       "      <th>STE_NAME21</th>\n",
       "      <th>AUS_CODE21</th>\n",
       "      <th>AUS_NAME21</th>\n",
       "      <th>AREASQKM</th>\n",
       "      <th>LOCI_URI21</th>\n",
       "      <th>geometry</th>\n",
       "    </tr>\n",
       "  </thead>\n",
       "  <tbody>\n",
       "    <tr>\n",
       "      <th>67</th>\n",
       "      <td>14850</td>\n",
       "      <td>Lismore</td>\n",
       "      <td>1</td>\n",
       "      <td>New South Wales</td>\n",
       "      <td>AUS</td>\n",
       "      <td>Australia</td>\n",
       "      <td>1287.7042</td>\n",
       "      <td>https://linked.data.gov.au/dataset/asgsed3/LGA...</td>\n",
       "      <td>POLYGON ((153.18378 -28.52234, 153.18380 -28.5...</td>\n",
       "    </tr>\n",
       "  </tbody>\n",
       "</table>\n",
       "</div>"
      ],
      "text/plain": [
       "   LGA_CODE23 LGA_NAME23 STE_CODE21       STE_NAME21 AUS_CODE21 AUS_NAME21  \\\n",
       "67      14850    Lismore          1  New South Wales        AUS  Australia   \n",
       "\n",
       "     AREASQKM                                         LOCI_URI21  \\\n",
       "67  1287.7042  https://linked.data.gov.au/dataset/asgsed3/LGA...   \n",
       "\n",
       "                                             geometry  \n",
       "67  POLYGON ((153.18378 -28.52234, 153.18380 -28.5...  "
      ]
     },
     "execution_count": 3,
     "metadata": {},
     "output_type": "execute_result"
    }
   ],
   "source": [
    "lis_lga = lgas[lgas['LGA_NAME23']=='Lismore']\n",
    "lis_lga.head()"
   ]
  },
  {
   "cell_type": "code",
   "execution_count": 16,
   "id": "3067aca3-9d62-43ea-9f5a-1589b410814a",
   "metadata": {},
   "outputs": [],
   "source": [
    "lis_lga.to_file(\"/Users/tonyweir/Documents/code/projects/lismore/data/geometry_files/lismore_lga/lismore_lga.shp\")"
   ]
  },
  {
   "cell_type": "code",
   "execution_count": 4,
   "id": "6413d00a-17fc-4b17-9875-72893adbdb92",
   "metadata": {},
   "outputs": [
    {
     "data": {
      "text/html": [
       "<div>\n",
       "<style scoped>\n",
       "    .dataframe tbody tr th:only-of-type {\n",
       "        vertical-align: middle;\n",
       "    }\n",
       "\n",
       "    .dataframe tbody tr th {\n",
       "        vertical-align: top;\n",
       "    }\n",
       "\n",
       "    .dataframe thead th {\n",
       "        text-align: right;\n",
       "    }\n",
       "</style>\n",
       "<table border=\"1\" class=\"dataframe\">\n",
       "  <thead>\n",
       "    <tr style=\"text-align: right;\">\n",
       "      <th></th>\n",
       "      <th>SA2_MAIN16</th>\n",
       "      <th>SA2_5DIG16</th>\n",
       "      <th>SA2_NAME16</th>\n",
       "      <th>SA3_CODE16</th>\n",
       "      <th>SA3_NAME16</th>\n",
       "      <th>SA4_CODE16</th>\n",
       "      <th>SA4_NAME16</th>\n",
       "      <th>GCC_CODE16</th>\n",
       "      <th>GCC_NAME16</th>\n",
       "      <th>STE_CODE16</th>\n",
       "      <th>STE_NAME16</th>\n",
       "      <th>AREASQKM16</th>\n",
       "      <th>geometry</th>\n",
       "    </tr>\n",
       "  </thead>\n",
       "  <tbody>\n",
       "    <tr>\n",
       "      <th>0</th>\n",
       "      <td>101021007</td>\n",
       "      <td>11007</td>\n",
       "      <td>Braidwood</td>\n",
       "      <td>10102</td>\n",
       "      <td>Queanbeyan</td>\n",
       "      <td>101</td>\n",
       "      <td>Capital Region</td>\n",
       "      <td>1RNSW</td>\n",
       "      <td>Rest of NSW</td>\n",
       "      <td>1</td>\n",
       "      <td>New South Wales</td>\n",
       "      <td>3418.3525</td>\n",
       "      <td>POLYGON ((149.58423 -35.44427, 149.58444 -35.4...</td>\n",
       "    </tr>\n",
       "  </tbody>\n",
       "</table>\n",
       "</div>"
      ],
      "text/plain": [
       "  SA2_MAIN16 SA2_5DIG16 SA2_NAME16 SA3_CODE16  SA3_NAME16 SA4_CODE16  \\\n",
       "0  101021007      11007  Braidwood      10102  Queanbeyan        101   \n",
       "\n",
       "       SA4_NAME16 GCC_CODE16   GCC_NAME16 STE_CODE16       STE_NAME16  \\\n",
       "0  Capital Region      1RNSW  Rest of NSW          1  New South Wales   \n",
       "\n",
       "   AREASQKM16                                           geometry  \n",
       "0   3418.3525  POLYGON ((149.58423 -35.44427, 149.58444 -35.4...  "
      ]
     },
     "execution_count": 4,
     "metadata": {},
     "output_type": "execute_result"
    }
   ],
   "source": [
    "sa216 = gpd.read_file(\"/Users/tonyweir/Documents/code/projects/lismore/data/geometry_files/SA2_2016/SA2_2016_AUST.shp\")\n",
    "sa216.head(1)"
   ]
  },
  {
   "cell_type": "code",
   "execution_count": 7,
   "id": "92b5c02b-4422-4aa8-b479-b0ec879fa602",
   "metadata": {},
   "outputs": [],
   "source": [
    "lis_lga = lis_lga.to_crs(sa216.crs)\n"
   ]
  },
  {
   "cell_type": "code",
   "execution_count": 9,
   "id": "8e0eb735-2762-4e54-b03f-04b30e6500d4",
   "metadata": {},
   "outputs": [
    {
     "data": {
      "text/plain": [
       "10"
      ]
     },
     "execution_count": 9,
     "metadata": {},
     "output_type": "execute_result"
    }
   ],
   "source": [
    "lis_sa2  = gpd.sjoin(sa216, lis_lga, how='inner', predicate='intersects')\n",
    "len(lis_sa2)"
   ]
  },
  {
   "cell_type": "code",
   "execution_count": 11,
   "id": "0d64f1bc-e915-4843-b9d6-c88657fb17db",
   "metadata": {},
   "outputs": [
    {
     "name": "stderr",
     "output_type": "stream",
     "text": [
      "/var/folders/rn/rk3gvn5s2f1cjyvs13pz_d_r0000gq/T/ipykernel_91594/1421538166.py:1: UserWarning: Column names longer than 10 characters will be truncated when saved to ESRI Shapefile.\n",
      "  lis_sa2.to_file(\"/Users/tonyweir/Documents/code/projects/lismore/data/geometry_files/lismore_sa2/lismore_sa2.shp\")\n"
     ]
    }
   ],
   "source": [
    "lis_sa2.to_file(\"/Users/tonyweir/Documents/code/projects/lismore/data/geometry_files/lismore_sa2/lismore_sa2.shp\")"
   ]
  },
  {
   "cell_type": "code",
   "execution_count": 12,
   "id": "1eab9e03-c042-412f-b63c-348bced4a353",
   "metadata": {},
   "outputs": [
    {
     "data": {
      "text/html": [
       "<div>\n",
       "<style scoped>\n",
       "    .dataframe tbody tr th:only-of-type {\n",
       "        vertical-align: middle;\n",
       "    }\n",
       "\n",
       "    .dataframe tbody tr th {\n",
       "        vertical-align: top;\n",
       "    }\n",
       "\n",
       "    .dataframe thead th {\n",
       "        text-align: right;\n",
       "    }\n",
       "</style>\n",
       "<table border=\"1\" class=\"dataframe\">\n",
       "  <thead>\n",
       "    <tr style=\"text-align: right;\">\n",
       "      <th></th>\n",
       "      <th>SA1_MAIN16</th>\n",
       "      <th>SA1_7DIG16</th>\n",
       "      <th>SA2_MAIN16</th>\n",
       "      <th>SA2_5DIG16</th>\n",
       "      <th>SA2_NAME16</th>\n",
       "      <th>SA3_CODE16</th>\n",
       "      <th>SA3_NAME16</th>\n",
       "      <th>SA4_CODE16</th>\n",
       "      <th>SA4_NAME16</th>\n",
       "      <th>GCC_CODE16</th>\n",
       "      <th>GCC_NAME16</th>\n",
       "      <th>STE_CODE16</th>\n",
       "      <th>STE_NAME16</th>\n",
       "      <th>AREASQKM16</th>\n",
       "      <th>geometry</th>\n",
       "    </tr>\n",
       "  </thead>\n",
       "  <tbody>\n",
       "    <tr>\n",
       "      <th>0</th>\n",
       "      <td>10102100701</td>\n",
       "      <td>1100701</td>\n",
       "      <td>101021007</td>\n",
       "      <td>11007</td>\n",
       "      <td>Braidwood</td>\n",
       "      <td>10102</td>\n",
       "      <td>Queanbeyan</td>\n",
       "      <td>101</td>\n",
       "      <td>Capital Region</td>\n",
       "      <td>1RNSW</td>\n",
       "      <td>Rest of NSW</td>\n",
       "      <td>1</td>\n",
       "      <td>New South Wales</td>\n",
       "      <td>362.8727</td>\n",
       "      <td>POLYGON ((149.71174 -35.12318, 149.71184 -35.1...</td>\n",
       "    </tr>\n",
       "  </tbody>\n",
       "</table>\n",
       "</div>"
      ],
      "text/plain": [
       "    SA1_MAIN16 SA1_7DIG16 SA2_MAIN16 SA2_5DIG16 SA2_NAME16 SA3_CODE16  \\\n",
       "0  10102100701    1100701  101021007      11007  Braidwood      10102   \n",
       "\n",
       "   SA3_NAME16 SA4_CODE16      SA4_NAME16 GCC_CODE16   GCC_NAME16 STE_CODE16  \\\n",
       "0  Queanbeyan        101  Capital Region      1RNSW  Rest of NSW          1   \n",
       "\n",
       "        STE_NAME16  AREASQKM16  \\\n",
       "0  New South Wales    362.8727   \n",
       "\n",
       "                                            geometry  \n",
       "0  POLYGON ((149.71174 -35.12318, 149.71184 -35.1...  "
      ]
     },
     "execution_count": 12,
     "metadata": {},
     "output_type": "execute_result"
    }
   ],
   "source": [
    "sa116 = gpd.read_file(\"/Users/tonyweir/Documents/code/projects/lismore/data/geometry_files/SA1_2016/SA1_2016_AUST.shp\")\n",
    "sa116.head(1)"
   ]
  },
  {
   "cell_type": "code",
   "execution_count": 13,
   "id": "ea90e10f-9608-44f4-825c-fc4c414bc444",
   "metadata": {},
   "outputs": [
    {
     "data": {
      "text/plain": [
       "57523"
      ]
     },
     "execution_count": 13,
     "metadata": {},
     "output_type": "execute_result"
    }
   ],
   "source": [
    "len(sa116)"
   ]
  },
  {
   "cell_type": "code",
   "execution_count": 14,
   "id": "9437df46-bf12-49dd-8f25-d835df90cc58",
   "metadata": {},
   "outputs": [
    {
     "data": {
      "text/plain": [
       "147"
      ]
     },
     "execution_count": 14,
     "metadata": {},
     "output_type": "execute_result"
    }
   ],
   "source": [
    "lis_sa1  = gpd.sjoin(sa116, lis_lga, how='inner', predicate='intersects')\n",
    "len(lis_sa1)"
   ]
  },
  {
   "cell_type": "code",
   "execution_count": 15,
   "id": "2d6a61dc-6144-421a-8690-462e46623ae0",
   "metadata": {},
   "outputs": [
    {
     "name": "stderr",
     "output_type": "stream",
     "text": [
      "/var/folders/rn/rk3gvn5s2f1cjyvs13pz_d_r0000gq/T/ipykernel_91594/3201908002.py:1: UserWarning: Column names longer than 10 characters will be truncated when saved to ESRI Shapefile.\n",
      "  lis_sa1.to_file(\"/Users/tonyweir/Documents/code/projects/lismore/data/geometry_files/lismore_sa1/lismore_sa1.shp\")\n"
     ]
    }
   ],
   "source": [
    "lis_sa1.to_file(\"/Users/tonyweir/Documents/code/projects/lismore/data/geometry_files/lismore_sa1/lismore_sa1.shp\")"
   ]
  },
  {
   "cell_type": "code",
   "execution_count": null,
   "id": "314e38d7-f4cb-44a1-a4fa-dae8a65031f3",
   "metadata": {},
   "outputs": [],
   "source": []
  },
  {
   "cell_type": "code",
   "execution_count": null,
   "id": "49aa2c7e-be7b-464f-99e7-11a2d7eabce0",
   "metadata": {},
   "outputs": [],
   "source": []
  },
  {
   "cell_type": "code",
   "execution_count": null,
   "id": "14ad1a46-c3e6-44dc-bcb1-b54af81adb38",
   "metadata": {},
   "outputs": [],
   "source": []
  },
  {
   "cell_type": "code",
   "execution_count": null,
   "id": "d0acce56-b2a0-4746-b17a-e76b423a978c",
   "metadata": {},
   "outputs": [],
   "source": []
  },
  {
   "cell_type": "code",
   "execution_count": null,
   "id": "1e02b2b6-f67e-4b40-a658-a8e8251174d6",
   "metadata": {},
   "outputs": [],
   "source": []
  },
  {
   "cell_type": "code",
   "execution_count": null,
   "id": "d7d06829-62a2-496b-b1ab-c4bc50c2bd61",
   "metadata": {},
   "outputs": [],
   "source": []
  },
  {
   "cell_type": "code",
   "execution_count": null,
   "id": "8713823b-6b02-4150-84fb-06f41d3e4181",
   "metadata": {},
   "outputs": [],
   "source": []
  },
  {
   "cell_type": "code",
   "execution_count": null,
   "id": "2f14fb06-d796-441f-8966-0241a074657f",
   "metadata": {},
   "outputs": [],
   "source": []
  }
 ],
 "metadata": {
  "kernelspec": {
   "display_name": "Python 3 (ipykernel)",
   "language": "python",
   "name": "python3"
  },
  "language_info": {
   "codemirror_mode": {
    "name": "ipython",
    "version": 3
   },
   "file_extension": ".py",
   "mimetype": "text/x-python",
   "name": "python",
   "nbconvert_exporter": "python",
   "pygments_lexer": "ipython3",
   "version": "3.9.18"
  }
 },
 "nbformat": 4,
 "nbformat_minor": 5
}
